{
 "cells": [
  {
   "cell_type": "code",
   "execution_count": 1,
   "id": "0ece18a0",
   "metadata": {},
   "outputs": [],
   "source": [
    "# program to display mean grade for student"
   ]
  },
  {
   "cell_type": "code",
   "execution_count": 13,
   "id": "3186cf7e",
   "metadata": {},
   "outputs": [
    {
     "name": "stdout",
     "output_type": "stream",
     "text": [
      "Enter the Grades:79\n",
      "B Grade \n"
     ]
    }
   ],
   "source": [
    "a = int (input (\"Enter the Grades:\"))\n",
    "if a >= 80:\n",
    "    print (\"A Grade \")\n",
    "elif (a < 80) and (a >=70):\n",
    "        print (\"B Grade \")     \n",
    "    \n",
    "elif (a <70) and (a>=60):\n",
    "        print (\"C Grade\")        \n",
    "    \n",
    "elif (a < 60) and (a >= 50):\n",
    "        print (\"Average Grade \")\n",
    "    \n",
    "elif (a < 50) and (a >= 40):\n",
    "        print (\"Pass Grade \" )\n",
    "    \n",
    "elif (a < 40) and (a >= 30):\n",
    "        print (\"Below  Average Grade \")\n",
    "        \n",
    "    \n",
    "    \n",
    "else:\n",
    "    print (\"Fail \")\n",
    "    \n",
    "  \n",
    "    "
   ]
  },
  {
   "cell_type": "code",
   "execution_count": null,
   "id": "9a091a5d",
   "metadata": {},
   "outputs": [],
   "source": []
  }
 ],
 "metadata": {
  "kernelspec": {
   "display_name": "Python 3 (ipykernel)",
   "language": "python",
   "name": "python3"
  },
  "language_info": {
   "codemirror_mode": {
    "name": "ipython",
    "version": 3
   },
   "file_extension": ".py",
   "mimetype": "text/x-python",
   "name": "python",
   "nbconvert_exporter": "python",
   "pygments_lexer": "ipython3",
   "version": "3.9.7"
  }
 },
 "nbformat": 4,
 "nbformat_minor": 5
}
